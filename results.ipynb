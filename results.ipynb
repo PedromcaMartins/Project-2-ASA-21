{
 "cells": [
  {
   "cell_type": "code",
   "execution_count": 5,
   "metadata": {},
   "outputs": [],
   "source": [
    "import pandas as pd\n",
    "import seaborn as sns\n",
    "import matplotlib.pyplot as plt\n",
    "import numpy as np\n",
    "\n",
    "sns.set_theme(style=\"whitegrid\", palette=\"pastel\") # https://seaborn.pydata.org/generated/seaborn.set_theme.html#seaborn.set_theme\n",
    "#df_p1 = pd.read_csv(\"./prob1.csv\") # cvs com headers: nums, mean"
   ]
  },
  {
   "cell_type": "code",
   "execution_count": 6,
   "metadata": {},
   "outputs": [],
   "source": [
    "df_p2 = pd.read_csv(\"./prob2.csv\") # csv with headers: n1, n2, mean\n",
    "df_p2['nm'] = df_p2['n1'] + df_p2['n2'] * df_p2['n1']"
   ]
  },
  {
   "cell_type": "code",
   "execution_count": 7,
   "metadata": {},
   "outputs": [
    {
     "data": {
      "text/html": [
       "<div>\n",
       "<style scoped>\n",
       "    .dataframe tbody tr th:only-of-type {\n",
       "        vertical-align: middle;\n",
       "    }\n",
       "\n",
       "    .dataframe tbody tr th {\n",
       "        vertical-align: top;\n",
       "    }\n",
       "\n",
       "    .dataframe thead th {\n",
       "        text-align: right;\n",
       "    }\n",
       "</style>\n",
       "<table border=\"1\" class=\"dataframe\">\n",
       "  <thead>\n",
       "    <tr style=\"text-align: right;\">\n",
       "      <th></th>\n",
       "      <th>n1</th>\n",
       "      <th>n2</th>\n",
       "      <th>mean</th>\n",
       "      <th>nm</th>\n",
       "    </tr>\n",
       "  </thead>\n",
       "  <tbody>\n",
       "    <tr>\n",
       "      <th>0</th>\n",
       "      <td>10000</td>\n",
       "      <td>0.6</td>\n",
       "      <td>12.3</td>\n",
       "      <td>16000.0</td>\n",
       "    </tr>\n",
       "    <tr>\n",
       "      <th>1</th>\n",
       "      <td>10250</td>\n",
       "      <td>0.6</td>\n",
       "      <td>12.4</td>\n",
       "      <td>16400.0</td>\n",
       "    </tr>\n",
       "    <tr>\n",
       "      <th>2</th>\n",
       "      <td>10500</td>\n",
       "      <td>0.6</td>\n",
       "      <td>12.4</td>\n",
       "      <td>16800.0</td>\n",
       "    </tr>\n",
       "    <tr>\n",
       "      <th>3</th>\n",
       "      <td>10750</td>\n",
       "      <td>0.6</td>\n",
       "      <td>12.5</td>\n",
       "      <td>17200.0</td>\n",
       "    </tr>\n",
       "    <tr>\n",
       "      <th>4</th>\n",
       "      <td>11000</td>\n",
       "      <td>0.6</td>\n",
       "      <td>13.0</td>\n",
       "      <td>17600.0</td>\n",
       "    </tr>\n",
       "    <tr>\n",
       "      <th>...</th>\n",
       "      <td>...</td>\n",
       "      <td>...</td>\n",
       "      <td>...</td>\n",
       "      <td>...</td>\n",
       "    </tr>\n",
       "    <tr>\n",
       "      <th>356</th>\n",
       "      <td>99000</td>\n",
       "      <td>0.6</td>\n",
       "      <td>89.1</td>\n",
       "      <td>158400.0</td>\n",
       "    </tr>\n",
       "    <tr>\n",
       "      <th>357</th>\n",
       "      <td>99250</td>\n",
       "      <td>0.6</td>\n",
       "      <td>86.7</td>\n",
       "      <td>158800.0</td>\n",
       "    </tr>\n",
       "    <tr>\n",
       "      <th>358</th>\n",
       "      <td>99500</td>\n",
       "      <td>0.6</td>\n",
       "      <td>84.8</td>\n",
       "      <td>159200.0</td>\n",
       "    </tr>\n",
       "    <tr>\n",
       "      <th>359</th>\n",
       "      <td>99750</td>\n",
       "      <td>0.6</td>\n",
       "      <td>85.6</td>\n",
       "      <td>159600.0</td>\n",
       "    </tr>\n",
       "    <tr>\n",
       "      <th>360</th>\n",
       "      <td>100000</td>\n",
       "      <td>0.6</td>\n",
       "      <td>91.2</td>\n",
       "      <td>160000.0</td>\n",
       "    </tr>\n",
       "  </tbody>\n",
       "</table>\n",
       "<p>361 rows × 4 columns</p>\n",
       "</div>"
      ],
      "text/plain": [
       "         n1   n2  mean        nm\n",
       "0     10000  0.6  12.3   16000.0\n",
       "1     10250  0.6  12.4   16400.0\n",
       "2     10500  0.6  12.4   16800.0\n",
       "3     10750  0.6  12.5   17200.0\n",
       "4     11000  0.6  13.0   17600.0\n",
       "..      ...  ...   ...       ...\n",
       "356   99000  0.6  89.1  158400.0\n",
       "357   99250  0.6  86.7  158800.0\n",
       "358   99500  0.6  84.8  159200.0\n",
       "359   99750  0.6  85.6  159600.0\n",
       "360  100000  0.6  91.2  160000.0\n",
       "\n",
       "[361 rows x 4 columns]"
      ]
     },
     "execution_count": 7,
     "metadata": {},
     "output_type": "execute_result"
    }
   ],
   "source": [
    "df_p2"
   ]
  },
  {
   "cell_type": "code",
   "execution_count": 9,
   "metadata": {},
   "outputs": [
    {
     "data": {
      "text/plain": [
       "Text(0.5, 1.0, '')"
      ]
     },
     "execution_count": 9,
     "metadata": {},
     "output_type": "execute_result"
    },
    {
     "data": {
      "image/png": "[encoded data removed]",
      "text/plain": [
       "<Figure size 432x288 with 1 Axes>"
      ]
     },
     "metadata": {},
     "output_type": "display_data"
    }
   ],
   "source": [
    "#plt.figure(figsize=(20, 8))\n",
    "ax = sns.lineplot(x=\"nm\", y=\"mean\", data=df_p2, err_style=\"bars\", ci=\"sd\")\n",
    "#ax.set_xlim(left=10)\n",
    "ax.set_xlabel(\"number of Vertices plus number of Edges\") # change me\n",
    "ax.set_ylabel(\"t\") # change me\n",
    "ax.set_xscale(\"function\", functions=(lambda x: x, lambda x: x))\n",
    "plt.title(\"\") # change me"
   ]
  }
 ],
 "metadata": {
  "interpreter": {
   "hash": "e7370f93d1d0cde622a1f8e1c04877d8463912d04d973331ad4851f04de6915a"
  },
  "kernelspec": {
   "display_name": "Python 3.10.1 64-bit",
   "language": "python",
   "name": "python3"
  },
  "language_info": {
   "codemirror_mode": {
    "name": "ipython",
    "version": 3
   },
   "file_extension": ".py",
   "mimetype": "text/x-python",
   "name": "python",
   "nbconvert_exporter": "python",
   "pygments_lexer": "ipython3",
   "version": "3.8.10"
  },
  "orig_nbformat": 4
 },
 "nbformat": 4,
 "nbformat_minor": 2
}
